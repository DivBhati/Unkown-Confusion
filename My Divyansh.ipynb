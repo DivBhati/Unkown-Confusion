{
 "cells": [
  {
   "cell_type": "code",
   "execution_count": 21,
   "id": "c0c20e52",
   "metadata": {},
   "outputs": [],
   "source": [
    "import mysql.connector as Connector\n",
    "import pandas as pd\n",
    "import numpy as np \n",
    "import matplotlib.pyplot as Mat"
   ]
  },
  {
   "cell_type": "code",
   "execution_count": 22,
   "id": "2f20e436",
   "metadata": {},
   "outputs": [],
   "source": [
    "Database = Connector.connect(host=\"localhost\",user='root',password=\"00000000\",database=\"project\")"
   ]
  },
  {
   "cell_type": "code",
   "execution_count": 23,
   "id": "6aad366e",
   "metadata": {},
   "outputs": [
    {
     "name": "stdout",
     "output_type": "stream",
     "text": [
      "<mysql.connector.connection.MySQLConnection object at 0x0000018C614E7310>\n"
     ]
    }
   ],
   "source": [
    "print(Database)"
   ]
  },
  {
   "cell_type": "code",
   "execution_count": 24,
   "id": "337f307d",
   "metadata": {},
   "outputs": [],
   "source": [
    "Project = Database.cursor()"
   ]
  },
  {
   "cell_type": "code",
   "execution_count": 25,
   "id": "3dfd8014",
   "metadata": {},
   "outputs": [],
   "source": [
    "Project.execute(\"SELECT * from Users;\")"
   ]
  },
  {
   "cell_type": "code",
   "execution_count": 26,
   "id": "5776db0b",
   "metadata": {},
   "outputs": [],
   "source": [
    "Output = Project.fetchall()"
   ]
  },
  {
   "cell_type": "code",
   "execution_count": 27,
   "id": "da8a8536",
   "metadata": {},
   "outputs": [],
   "source": [
    "DataFrame = pd.DataFrame(Output)"
   ]
  },
  {
   "cell_type": "code",
   "execution_count": 28,
   "id": "90259fd6",
   "metadata": {},
   "outputs": [
    {
     "data": {
      "text/html": [
       "<div>\n",
       "<style scoped>\n",
       "    .dataframe tbody tr th:only-of-type {\n",
       "        vertical-align: middle;\n",
       "    }\n",
       "\n",
       "    .dataframe tbody tr th {\n",
       "        vertical-align: top;\n",
       "    }\n",
       "\n",
       "    .dataframe thead th {\n",
       "        text-align: right;\n",
       "    }\n",
       "</style>\n",
       "<table border=\"1\" class=\"dataframe\">\n",
       "  <thead>\n",
       "    <tr style=\"text-align: right;\">\n",
       "      <th></th>\n",
       "      <th>0</th>\n",
       "      <th>1</th>\n",
       "      <th>2</th>\n",
       "      <th>3</th>\n",
       "      <th>4</th>\n",
       "      <th>5</th>\n",
       "      <th>6</th>\n",
       "    </tr>\n",
       "  </thead>\n",
       "  <tbody>\n",
       "    <tr>\n",
       "      <th>0</th>\n",
       "      <td>1</td>\n",
       "      <td>rogers63</td>\n",
       "      <td>david</td>\n",
       "      <td>john</td>\n",
       "      <td>Female</td>\n",
       "      <td>e6a33eee180b07e563d74fee8c2c66b8</td>\n",
       "      <td>1</td>\n",
       "    </tr>\n",
       "    <tr>\n",
       "      <th>1</th>\n",
       "      <td>2</td>\n",
       "      <td>mike28</td>\n",
       "      <td>rogers</td>\n",
       "      <td>paul</td>\n",
       "      <td>Male</td>\n",
       "      <td>2e7dc6b8a1598f4f75c3eaa47958ee2f</td>\n",
       "      <td>1</td>\n",
       "    </tr>\n",
       "    <tr>\n",
       "      <th>2</th>\n",
       "      <td>3</td>\n",
       "      <td>rivera92</td>\n",
       "      <td>david</td>\n",
       "      <td>john</td>\n",
       "      <td>Male</td>\n",
       "      <td>1c3a8e03f448d211904161a6f5849b68</td>\n",
       "      <td>1</td>\n",
       "    </tr>\n",
       "    <tr>\n",
       "      <th>3</th>\n",
       "      <td>4</td>\n",
       "      <td>ross95</td>\n",
       "      <td>maria</td>\n",
       "      <td>sanders</td>\n",
       "      <td>Male</td>\n",
       "      <td>62f0a68a4179c5cdd997189760cbcf18</td>\n",
       "      <td>1</td>\n",
       "    </tr>\n",
       "    <tr>\n",
       "      <th>4</th>\n",
       "      <td>5</td>\n",
       "      <td>paul85</td>\n",
       "      <td>morris</td>\n",
       "      <td>miller</td>\n",
       "      <td>Female</td>\n",
       "      <td>61bd060b07bddfecccea56a82b850ecf</td>\n",
       "      <td>1</td>\n",
       "    </tr>\n",
       "    <tr>\n",
       "      <th>...</th>\n",
       "      <td>...</td>\n",
       "      <td>...</td>\n",
       "      <td>...</td>\n",
       "      <td>...</td>\n",
       "      <td>...</td>\n",
       "      <td>...</td>\n",
       "      <td>...</td>\n",
       "    </tr>\n",
       "    <tr>\n",
       "      <th>95</th>\n",
       "      <td>96</td>\n",
       "      <td>smith9</td>\n",
       "      <td>miller</td>\n",
       "      <td>morris</td>\n",
       "      <td>Male</td>\n",
       "      <td>97ee0765b9c05d35b53769a3c4133b13</td>\n",
       "      <td>1</td>\n",
       "    </tr>\n",
       "    <tr>\n",
       "      <th>96</th>\n",
       "      <td>97</td>\n",
       "      <td>miller73</td>\n",
       "      <td>chrishaydon</td>\n",
       "      <td>morgan</td>\n",
       "      <td>Male</td>\n",
       "      <td>6c4283471ace6b4af590c180bd13b1bf</td>\n",
       "      <td>1</td>\n",
       "    </tr>\n",
       "    <tr>\n",
       "      <th>97</th>\n",
       "      <td>98</td>\n",
       "      <td>michael44</td>\n",
       "      <td>cooper</td>\n",
       "      <td>maria</td>\n",
       "      <td>Female</td>\n",
       "      <td>dd4d053a12a3d8450166dba9177bac2c</td>\n",
       "      <td>1</td>\n",
       "    </tr>\n",
       "    <tr>\n",
       "      <th>98</th>\n",
       "      <td>99</td>\n",
       "      <td>michael36</td>\n",
       "      <td>miller</td>\n",
       "      <td>cooper</td>\n",
       "      <td>Female</td>\n",
       "      <td>36ab21ccb2a64acd5351bbb59753df9d</td>\n",
       "      <td>1</td>\n",
       "    </tr>\n",
       "    <tr>\n",
       "      <th>99</th>\n",
       "      <td>100</td>\n",
       "      <td>smith93</td>\n",
       "      <td>bell</td>\n",
       "      <td>mike</td>\n",
       "      <td>Female</td>\n",
       "      <td>8fbfdb81391ef264ae8b0df7e7e91d25</td>\n",
       "      <td>1</td>\n",
       "    </tr>\n",
       "  </tbody>\n",
       "</table>\n",
       "<p>100 rows × 7 columns</p>\n",
       "</div>"
      ],
      "text/plain": [
       "      0          1            2        3       4  \\\n",
       "0     1   rogers63        david     john  Female   \n",
       "1     2     mike28       rogers     paul    Male   \n",
       "2     3   rivera92        david     john    Male   \n",
       "3     4     ross95        maria  sanders    Male   \n",
       "4     5     paul85       morris   miller  Female   \n",
       "..  ...        ...          ...      ...     ...   \n",
       "95   96     smith9       miller   morris    Male   \n",
       "96   97   miller73  chrishaydon   morgan    Male   \n",
       "97   98  michael44       cooper    maria  Female   \n",
       "98   99  michael36       miller   cooper  Female   \n",
       "99  100    smith93         bell     mike  Female   \n",
       "\n",
       "                                   5  6  \n",
       "0   e6a33eee180b07e563d74fee8c2c66b8  1  \n",
       "1   2e7dc6b8a1598f4f75c3eaa47958ee2f  1  \n",
       "2   1c3a8e03f448d211904161a6f5849b68  1  \n",
       "3   62f0a68a4179c5cdd997189760cbcf18  1  \n",
       "4   61bd060b07bddfecccea56a82b850ecf  1  \n",
       "..                               ... ..  \n",
       "95  97ee0765b9c05d35b53769a3c4133b13  1  \n",
       "96  6c4283471ace6b4af590c180bd13b1bf  1  \n",
       "97  dd4d053a12a3d8450166dba9177bac2c  1  \n",
       "98  36ab21ccb2a64acd5351bbb59753df9d  1  \n",
       "99  8fbfdb81391ef264ae8b0df7e7e91d25  1  \n",
       "\n",
       "[100 rows x 7 columns]"
      ]
     },
     "execution_count": 28,
     "metadata": {},
     "output_type": "execute_result"
    }
   ],
   "source": [
    "DataFrame"
   ]
  },
  {
   "cell_type": "code",
   "execution_count": 29,
   "id": "46d47f2d",
   "metadata": {},
   "outputs": [],
   "source": [
    "Gender = Database.cursor()"
   ]
  },
  {
   "cell_type": "code",
   "execution_count": 30,
   "id": "a83494d1",
   "metadata": {},
   "outputs": [],
   "source": [
    "Gender.execute(\"SELECT gender FROM USERS;\")"
   ]
  },
  {
   "cell_type": "code",
   "execution_count": 31,
   "id": "700d70d2",
   "metadata": {},
   "outputs": [],
   "source": [
    "GenderDatabase = Gender.fetchall()"
   ]
  },
  {
   "cell_type": "code",
   "execution_count": 32,
   "id": "7fe7eb8c",
   "metadata": {},
   "outputs": [],
   "source": [
    "DataGender = pd.DataFrame(GenderDatabase)"
   ]
  },
  {
   "cell_type": "code",
   "execution_count": 33,
   "id": "74dcc273",
   "metadata": {},
   "outputs": [
    {
     "data": {
      "text/html": [
       "<div>\n",
       "<style scoped>\n",
       "    .dataframe tbody tr th:only-of-type {\n",
       "        vertical-align: middle;\n",
       "    }\n",
       "\n",
       "    .dataframe tbody tr th {\n",
       "        vertical-align: top;\n",
       "    }\n",
       "\n",
       "    .dataframe thead th {\n",
       "        text-align: right;\n",
       "    }\n",
       "</style>\n",
       "<table border=\"1\" class=\"dataframe\">\n",
       "  <thead>\n",
       "    <tr style=\"text-align: right;\">\n",
       "      <th></th>\n",
       "      <th>0</th>\n",
       "    </tr>\n",
       "  </thead>\n",
       "  <tbody>\n",
       "    <tr>\n",
       "      <th>0</th>\n",
       "      <td>Female</td>\n",
       "    </tr>\n",
       "    <tr>\n",
       "      <th>1</th>\n",
       "      <td>Male</td>\n",
       "    </tr>\n",
       "    <tr>\n",
       "      <th>2</th>\n",
       "      <td>Male</td>\n",
       "    </tr>\n",
       "    <tr>\n",
       "      <th>3</th>\n",
       "      <td>Male</td>\n",
       "    </tr>\n",
       "    <tr>\n",
       "      <th>4</th>\n",
       "      <td>Female</td>\n",
       "    </tr>\n",
       "    <tr>\n",
       "      <th>...</th>\n",
       "      <td>...</td>\n",
       "    </tr>\n",
       "    <tr>\n",
       "      <th>95</th>\n",
       "      <td>Male</td>\n",
       "    </tr>\n",
       "    <tr>\n",
       "      <th>96</th>\n",
       "      <td>Male</td>\n",
       "    </tr>\n",
       "    <tr>\n",
       "      <th>97</th>\n",
       "      <td>Female</td>\n",
       "    </tr>\n",
       "    <tr>\n",
       "      <th>98</th>\n",
       "      <td>Female</td>\n",
       "    </tr>\n",
       "    <tr>\n",
       "      <th>99</th>\n",
       "      <td>Female</td>\n",
       "    </tr>\n",
       "  </tbody>\n",
       "</table>\n",
       "<p>100 rows × 1 columns</p>\n",
       "</div>"
      ],
      "text/plain": [
       "         0\n",
       "0   Female\n",
       "1     Male\n",
       "2     Male\n",
       "3     Male\n",
       "4   Female\n",
       "..     ...\n",
       "95    Male\n",
       "96    Male\n",
       "97  Female\n",
       "98  Female\n",
       "99  Female\n",
       "\n",
       "[100 rows x 1 columns]"
      ]
     },
     "execution_count": 33,
     "metadata": {},
     "output_type": "execute_result"
    }
   ],
   "source": [
    "DataGender"
   ]
  },
  {
   "cell_type": "code",
   "execution_count": 34,
   "id": "1b075a32",
   "metadata": {},
   "outputs": [],
   "source": [
    "M = DataGender[DataGender==\"Male\"]"
   ]
  },
  {
   "cell_type": "code",
   "execution_count": 35,
   "id": "195e6b1b",
   "metadata": {},
   "outputs": [],
   "source": [
    "F = DataGender[DataGender==\"Female\"]"
   ]
  },
  {
   "cell_type": "code",
   "execution_count": 36,
   "id": "b972c0db",
   "metadata": {},
   "outputs": [],
   "source": [
    "VM = int(M.count())"
   ]
  },
  {
   "cell_type": "code",
   "execution_count": 37,
   "id": "968b3bf7",
   "metadata": {},
   "outputs": [],
   "source": [
    "VF = int(F.count())"
   ]
  },
  {
   "cell_type": "code",
   "execution_count": 38,
   "id": "0264d6df",
   "metadata": {},
   "outputs": [
    {
     "data": {
      "text/plain": [
       "51"
      ]
     },
     "execution_count": 38,
     "metadata": {},
     "output_type": "execute_result"
    }
   ],
   "source": [
    "VM"
   ]
  },
  {
   "cell_type": "code",
   "execution_count": 39,
   "id": "41d91a11",
   "metadata": {},
   "outputs": [
    {
     "data": {
      "text/plain": [
       "49"
      ]
     },
     "execution_count": 39,
     "metadata": {},
     "output_type": "execute_result"
    }
   ],
   "source": [
    "VF"
   ]
  },
  {
   "cell_type": "code",
   "execution_count": 40,
   "id": "fa8344fe",
   "metadata": {},
   "outputs": [
    {
     "data": {
      "image/png": "[encoded data removed]",
      "text/plain": [
       "<Figure size 432x288 with 1 Axes>"
      ]
     },
     "metadata": {},
     "output_type": "display_data"
    }
   ],
   "source": [
    "expel = [0.1,0]\n",
    "Mat.pie([VF,VM], labels=[\"Female\",\"Male\"], explode=expel, shadow=True, colors=[\"Red\",\"Blue\"])\n",
    "Mat.title(\"Number of Males and Females:\")\n",
    "Mat.legend(loc=\"center right\")\n",
    "Mat.show()"
   ]
  },
  {
   "cell_type": "code",
   "execution_count": null,
   "id": "94369452",
   "metadata": {},
   "outputs": [],
   "source": []
  }
 ],
 "metadata": {
  "kernelspec": {
   "display_name": "Python 3",
   "language": "python",
   "name": "python3"
  },
  "language_info": {
   "codemirror_mode": {
    "name": "ipython",
    "version": 3
   },
   "file_extension": ".py",
   "mimetype": "text/x-python",
   "name": "python",
   "nbconvert_exporter": "python",
   "pygments_lexer": "ipython3",
   "version": "3.8.8"
  }
 },
 "nbformat": 4,
 "nbformat_minor": 5
}
